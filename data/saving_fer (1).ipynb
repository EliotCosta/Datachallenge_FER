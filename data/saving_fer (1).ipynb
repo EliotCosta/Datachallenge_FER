{
  "nbformat": 4,
  "nbformat_minor": 0,
  "metadata": {
    "colab": {
      "name": "saving_fer.ipynb",
      "provenance": []
    },
    "kernelspec": {
      "name": "python3",
      "display_name": "Python 3"
    },
    "language_info": {
      "name": "python"
    }
  },
  "cells": [
    {
      "cell_type": "markdown",
      "source": [
        "***\n",
        "Build New Dataset\n",
        "***"
      ],
      "metadata": {
        "id": "5hK-JSlbpPbW"
      }
    },
    {
      "cell_type": "markdown",
      "source": [
        "File used to saved and relabel fer-2013 dataset with missing code. Joseph McDonnell\n",
        "\n"
      ],
      "metadata": {
        "id": "uVJx6lyb0muK"
      }
    },
    {
      "cell_type": "code",
      "source": [
        "import cv2\n",
        "import tarfile\n",
        "import zipfile\n",
        "import os\n",
        "import pandas as pd\n",
        "import numpy as np\n",
        "import seaborn as sns\n",
        "from io import BytesIO\n",
        "from PIL import Image\n",
        "\n",
        "\n",
        "import tensorflow as tf\n",
        "from tensorflow import keras\n",
        "from keras.preprocessing.image import load_img, img_to_array\n",
        "import matplotlib.pyplot as plt\n"
      ],
      "metadata": {
        "id": "VuAAqhQKtbZR"
      },
      "execution_count": null,
      "outputs": []
    },
    {
      "cell_type": "code",
      "source": [
        "from google.colab import drive\n",
        "drive.mount('/content/drive/')\n",
        "working_dir = '/content/drive/My Drive/datachallenge'\n"
      ],
      "metadata": {
        "id": "gk4G7P1ppSGf"
      },
      "execution_count": null,
      "outputs": []
    },
    {
      "cell_type": "code",
      "source": [
        "n = len(zip.namelist())"
      ],
      "metadata": {
        "id": "T2qaOegl2sa9"
      },
      "execution_count": null,
      "outputs": []
    },
    {
      "cell_type": "code",
      "source": [
        "index = np.zeros((n,))\n",
        "images = np.zeros((n, 48, 48))\n",
        "\n",
        "for i in range(n):\n",
        "  name = zip.namelist()[i]\n",
        "  data = zip.read(name)\n",
        "  images[i] = np.array(Image.open(BytesIO(data)))\n",
        "\n",
        "  if 'angry' in name:\n",
        "    index[i] = 0\n",
        "  elif 'disgust' in name:\n",
        "    index[i] = 1\n",
        "  elif 'fear' in name:\n",
        "    index[i] = 2\n",
        "  elif 'happy' in name:\n",
        "    index[i] = 3\n",
        "  elif 'neutral' in name:\n",
        "    index[i] = 4\n",
        "  elif 'sad' in name:\n",
        "    index[i] = 5\n",
        "  elif 'surprise' in name:\n",
        "    index[i] = 6\n",
        "\n",
        "\n",
        "\n",
        "\n"
      ],
      "metadata": {
        "id": "PpRIICPzxVd0"
      },
      "execution_count": null,
      "outputs": []
    },
    {
      "cell_type": "code",
      "source": [
        "images.shape, index.shape  "
      ],
      "metadata": {
        "colab": {
          "base_uri": "https://localhost:8080/"
        },
        "id": "h5QzleH03cZN",
        "outputId": "2dea4066-b256-411d-f910-a9a9cbfe2ac3"
      },
      "execution_count": null,
      "outputs": [
        {
          "output_type": "execute_result",
          "data": {
            "text/plain": [
              "((35887, 48, 48), (35887,))"
            ]
          },
          "metadata": {},
          "execution_count": 49
        }
      ]
    },
    {
      "cell_type": "code",
      "source": [
        "a =np.save('/content/drive/My Drive/datachallenge/images.npy',images)"
      ],
      "metadata": {
        "id": "403cNr24ytbF"
      },
      "execution_count": null,
      "outputs": []
    },
    {
      "cell_type": "code",
      "source": [
        "np.save('/content/drive/My Drive/datachallenge/classes.npy',index )"
      ],
      "metadata": {
        "id": "0hBxSiVR53Wd"
      },
      "execution_count": null,
      "outputs": []
    },
    {
      "cell_type": "code",
      "source": [
        "with open('/content/drive/My Drive/datachallenge', 'w') as f:\n",
        "  f.write(a)"
      ],
      "metadata": {
        "colab": {
          "base_uri": "https://localhost:8080/",
          "height": 189
        },
        "id": "-IeJD6ph6gQ3",
        "outputId": "5e0a76e1-f718-4c5c-f841-c7052aed6001"
      },
      "execution_count": null,
      "outputs": [
        {
          "output_type": "error",
          "ename": "IsADirectoryError",
          "evalue": "ignored",
          "traceback": [
            "\u001b[0;31m---------------------------------------------------------------------------\u001b[0m",
            "\u001b[0;31mIsADirectoryError\u001b[0m                         Traceback (most recent call last)",
            "\u001b[0;32m<ipython-input-56-d3387ff77aff>\u001b[0m in \u001b[0;36m<module>\u001b[0;34m()\u001b[0m\n\u001b[0;32m----> 1\u001b[0;31m \u001b[0;32mwith\u001b[0m \u001b[0mopen\u001b[0m\u001b[0;34m(\u001b[0m\u001b[0;34m'/content/drive/My Drive/datachallenge'\u001b[0m\u001b[0;34m,\u001b[0m \u001b[0;34m'w'\u001b[0m\u001b[0;34m)\u001b[0m \u001b[0;32mas\u001b[0m \u001b[0mf\u001b[0m\u001b[0;34m:\u001b[0m\u001b[0;34m\u001b[0m\u001b[0;34m\u001b[0m\u001b[0m\n\u001b[0m\u001b[1;32m      2\u001b[0m   \u001b[0mf\u001b[0m\u001b[0;34m.\u001b[0m\u001b[0mwrite\u001b[0m\u001b[0;34m(\u001b[0m\u001b[0ma\u001b[0m\u001b[0;34m)\u001b[0m\u001b[0;34m\u001b[0m\u001b[0;34m\u001b[0m\u001b[0m\n",
            "\u001b[0;31mIsADirectoryError\u001b[0m: [Errno 21] Is a directory: '/content/drive/My Drive/datachallenge'"
          ]
        }
      ]
    }
  ]
}