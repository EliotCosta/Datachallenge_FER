{
 "cells": [
  {
   "cell_type": "markdown",
   "metadata": {},
   "source": [
    "# Trial of multilayer perceptron on landmark delta"
   ]
  },
  {
   "cell_type": "code",
   "execution_count": 131,
   "metadata": {},
   "outputs": [],
   "source": [
    "# imports \n",
    "import h5py\n",
    "from keras.utils.np_utils import to_categorical  \n",
    "import pandas as pd\n",
    "import matplotlib.pyplot as plt\n",
    "from sklearn.model_selection import train_test_split\n",
    "import tensorflow as tf\n",
    "\n"
   ]
  },
  {
   "cell_type": "markdown",
   "metadata": {},
   "source": [
    "## Opening Data"
   ]
  },
  {
   "cell_type": "code",
   "execution_count": 45,
   "metadata": {},
   "outputs": [],
   "source": [
    "h5f = h5py.File('data_train_labels.h5','r')\n",
    "train_y = h5f['data_train_labels'][:]\n",
    "h5f.close()"
   ]
  },
  {
   "cell_type": "code",
   "execution_count": 46,
   "metadata": {},
   "outputs": [],
   "source": [
    "h5f = h5py.File('data_train_landmarks.h5','r')\n",
    "train_l = h5f['data_train_landmarks'][:]\n",
    "h5f.close()"
   ]
  },
  {
   "cell_type": "code",
   "execution_count": 116,
   "metadata": {},
   "outputs": [],
   "source": [
    "h5f = h5py.File('data_test_landmarks.h5','r')\n",
    "test_l = h5f['data_test_landmarks'][:]\n",
    "h5f.close()"
   ]
  },
  {
   "cell_type": "code",
   "execution_count": 117,
   "metadata": {},
   "outputs": [],
   "source": [
    "delta_test = test_l[:,0,:,:]-test_l[:,-1,:,:]"
   ]
  },
  {
   "cell_type": "code",
   "execution_count": 76,
   "metadata": {},
   "outputs": [],
   "source": [
    " y = to_categorical(train_y)"
   ]
  },
  {
   "cell_type": "code",
   "execution_count": 1,
   "metadata": {},
   "outputs": [
    {
     "ename": "NameError",
     "evalue": "name 'train_l' is not defined",
     "output_type": "error",
     "traceback": [
      "\u001b[0;31m---------------------------------------------------------------------------\u001b[0m",
      "\u001b[0;31mNameError\u001b[0m                                 Traceback (most recent call last)",
      "\u001b[0;32m/tmp/ipykernel_2263/4134122043.py\u001b[0m in \u001b[0;36m<module>\u001b[0;34m\u001b[0m\n\u001b[1;32m      1\u001b[0m \u001b[0;31m# computing delta\u001b[0m\u001b[0;34m\u001b[0m\u001b[0;34m\u001b[0m\u001b[0m\n\u001b[0;32m----> 2\u001b[0;31m \u001b[0mdelta\u001b[0m \u001b[0;34m=\u001b[0m \u001b[0mtrain_l\u001b[0m\u001b[0;34m[\u001b[0m\u001b[0;34m:\u001b[0m\u001b[0;34m,\u001b[0m\u001b[0;36m0\u001b[0m\u001b[0;34m,\u001b[0m\u001b[0;34m:\u001b[0m\u001b[0;34m,\u001b[0m\u001b[0;34m:\u001b[0m\u001b[0;34m]\u001b[0m\u001b[0;34m-\u001b[0m\u001b[0mtrain_l\u001b[0m\u001b[0;34m[\u001b[0m\u001b[0;34m:\u001b[0m\u001b[0;34m,\u001b[0m\u001b[0;34m-\u001b[0m\u001b[0;36m1\u001b[0m\u001b[0;34m,\u001b[0m\u001b[0;34m:\u001b[0m\u001b[0;34m,\u001b[0m\u001b[0;34m:\u001b[0m\u001b[0;34m]\u001b[0m\u001b[0;34m\u001b[0m\u001b[0;34m\u001b[0m\u001b[0m\n\u001b[0m",
      "\u001b[0;31mNameError\u001b[0m: name 'train_l' is not defined"
     ]
    }
   ],
   "source": [
    "# computing delta\n",
    "delta = train_l[:,0,:,:]-train_l[:,-1,:,:]"
   ]
  },
  {
   "cell_type": "code",
   "execution_count": 51,
   "metadata": {},
   "outputs": [],
   "source": [
    "BATCH_SIZE = 1\n",
    "num_classes = 6 "
   ]
  },
  {
   "cell_type": "markdown",
   "metadata": {},
   "source": [
    "## Making a tensorflow dataset"
   ]
  },
  {
   "cell_type": "code",
   "execution_count": 252,
   "metadata": {},
   "outputs": [],
   "source": [
    "\n",
    "X_train, X_test, y_train, y_test = train_test_split(delta.reshape(540,136), y, test_size=0.1)"
   ]
  },
  {
   "cell_type": "code",
   "execution_count": 253,
   "metadata": {},
   "outputs": [],
   "source": [
    "train_dataset = tf.data.Dataset.from_tensor_slices((X_train, y_train)\n",
    ")\n",
    "train_dataset = train_dataset.batch(BATCH_SIZE)\n",
    "\n",
    "test_dataset = tf.data.Dataset.from_tensor_slices((X_test, y_test)\n",
    ")\n",
    "test_dataset = test_dataset.batch(BATCH_SIZE)\n",
    "\n"
   ]
  },
  {
   "cell_type": "code",
   "execution_count": 184,
   "metadata": {},
   "outputs": [],
   "source": [
    "image_batch, label_batch = next(iter(train_dataset))\n",
    "\n"
   ]
  },
  {
   "cell_type": "code",
   "execution_count": 326,
   "metadata": {},
   "outputs": [],
   "source": [
    "# basic mlp model \n",
    "model = tf.keras.Sequential(\n",
    "    [\n",
    "        tf.keras.layers.Dense(10,activation='relu'),\n",
    "        tf.keras.layers.Dropout(0.2),\n",
    "\n",
    "        tf.keras.layers.Dense(6, activation='softmax')\n",
    "        \n",
    "    ]\n",
    ")\n",
    "\n",
    "\n"
   ]
  },
  {
   "cell_type": "code",
   "execution_count": 86,
   "metadata": {},
   "outputs": [
    {
     "ename": "ValueError",
     "evalue": "This model has not yet been built. Build the model first by calling `build()` or by calling the model on a batch of data.",
     "output_type": "error",
     "traceback": [
      "\u001b[0;31m---------------------------------------------------------------------------\u001b[0m",
      "\u001b[0;31mValueError\u001b[0m                                Traceback (most recent call last)",
      "\u001b[0;32m/tmp/ipykernel_8540/3470139634.py\u001b[0m in \u001b[0;36m<module>\u001b[0;34m\u001b[0m\n\u001b[0;32m----> 1\u001b[0;31m \u001b[0mmodel\u001b[0m\u001b[0;34m.\u001b[0m\u001b[0msummary\u001b[0m\u001b[0;34m(\u001b[0m\u001b[0;34m)\u001b[0m\u001b[0;34m\u001b[0m\u001b[0;34m\u001b[0m\u001b[0m\n\u001b[0m",
      "\u001b[0;32m~/anaconda3/envs/proba2/lib/python3.9/site-packages/keras/engine/training.py\u001b[0m in \u001b[0;36msummary\u001b[0;34m(self, line_length, positions, print_fn, expand_nested, show_trainable)\u001b[0m\n\u001b[1;32m   2773\u001b[0m     \"\"\"\n\u001b[1;32m   2774\u001b[0m     \u001b[0;32mif\u001b[0m \u001b[0;32mnot\u001b[0m \u001b[0mself\u001b[0m\u001b[0;34m.\u001b[0m\u001b[0mbuilt\u001b[0m\u001b[0;34m:\u001b[0m\u001b[0;34m\u001b[0m\u001b[0;34m\u001b[0m\u001b[0m\n\u001b[0;32m-> 2775\u001b[0;31m       raise ValueError(\n\u001b[0m\u001b[1;32m   2776\u001b[0m           \u001b[0;34m'This model has not yet been built. '\u001b[0m\u001b[0;34m\u001b[0m\u001b[0;34m\u001b[0m\u001b[0m\n\u001b[1;32m   2777\u001b[0m           \u001b[0;34m'Build the model first by calling `build()` or by calling '\u001b[0m\u001b[0;34m\u001b[0m\u001b[0;34m\u001b[0m\u001b[0m\n",
      "\u001b[0;31mValueError\u001b[0m: This model has not yet been built. Build the model first by calling `build()` or by calling the model on a batch of data."
     ]
    }
   ],
   "source": [
    "model.summary()"
   ]
  },
  {
   "cell_type": "code",
   "execution_count": 329,
   "metadata": {},
   "outputs": [],
   "source": [
    "# compiling model \n",
    "model.compile(loss='categorical_crossentropy', \n",
    "                optimizer = tf.keras.optimizers.Adam(learning_rate=0.001), \n",
    "                    metrics = ['accuracy'])"
   ]
  },
  {
   "cell_type": "code",
   "execution_count": 330,
   "metadata": {},
   "outputs": [
    {
     "name": "stdout",
     "output_type": "stream",
     "text": [
      "Epoch 1/50\n",
      "486/486 [==============================] - 1s 2ms/step - loss: 2.0581 - accuracy: 0.1358 - val_loss: 1.7777 - val_accuracy: 0.2222\n",
      "Epoch 2/50\n",
      "486/486 [==============================] - 1s 2ms/step - loss: 1.7878 - accuracy: 0.1914 - val_loss: 1.7279 - val_accuracy: 0.2222\n",
      "Epoch 3/50\n",
      "486/486 [==============================] - 1s 1ms/step - loss: 1.7280 - accuracy: 0.2695 - val_loss: 1.6364 - val_accuracy: 0.3889\n",
      "Epoch 4/50\n",
      "486/486 [==============================] - 1s 1ms/step - loss: 1.5358 - accuracy: 0.3663 - val_loss: 1.5401 - val_accuracy: 0.3889\n",
      "Epoch 5/50\n",
      "486/486 [==============================] - 1s 1ms/step - loss: 1.5125 - accuracy: 0.3663 - val_loss: 1.5701 - val_accuracy: 0.3519\n",
      "Epoch 6/50\n",
      "486/486 [==============================] - 1s 1ms/step - loss: 1.4218 - accuracy: 0.4424 - val_loss: 1.4965 - val_accuracy: 0.3704\n",
      "Epoch 7/50\n",
      "486/486 [==============================] - 1s 2ms/step - loss: 1.3761 - accuracy: 0.4527 - val_loss: 1.4393 - val_accuracy: 0.4259\n",
      "Epoch 8/50\n",
      "486/486 [==============================] - 1s 2ms/step - loss: 1.3146 - accuracy: 0.4691 - val_loss: 1.3657 - val_accuracy: 0.4444\n",
      "Epoch 9/50\n",
      "486/486 [==============================] - 1s 2ms/step - loss: 1.2132 - accuracy: 0.5144 - val_loss: 1.3597 - val_accuracy: 0.4630\n",
      "Epoch 10/50\n",
      "486/486 [==============================] - 1s 2ms/step - loss: 1.1960 - accuracy: 0.5453 - val_loss: 1.3508 - val_accuracy: 0.4630\n",
      "Epoch 11/50\n",
      "486/486 [==============================] - 1s 2ms/step - loss: 1.1638 - accuracy: 0.5576 - val_loss: 1.2657 - val_accuracy: 0.5370\n",
      "Epoch 12/50\n",
      "486/486 [==============================] - 1s 2ms/step - loss: 1.1747 - accuracy: 0.5494 - val_loss: 1.2274 - val_accuracy: 0.5741\n",
      "Epoch 13/50\n",
      "486/486 [==============================] - 1s 2ms/step - loss: 1.0929 - accuracy: 0.5864 - val_loss: 1.1903 - val_accuracy: 0.5556\n",
      "Epoch 14/50\n",
      "486/486 [==============================] - 1s 1ms/step - loss: 1.1037 - accuracy: 0.5638 - val_loss: 1.1654 - val_accuracy: 0.5741\n",
      "Epoch 15/50\n",
      "486/486 [==============================] - 1s 2ms/step - loss: 1.0295 - accuracy: 0.6029 - val_loss: 1.1353 - val_accuracy: 0.5741\n",
      "Epoch 16/50\n",
      "486/486 [==============================] - 1s 2ms/step - loss: 1.0810 - accuracy: 0.5782 - val_loss: 1.1779 - val_accuracy: 0.5185\n",
      "Epoch 17/50\n",
      "486/486 [==============================] - 1s 2ms/step - loss: 1.0187 - accuracy: 0.5885 - val_loss: 1.2064 - val_accuracy: 0.5185\n",
      "Epoch 18/50\n",
      "486/486 [==============================] - 1s 2ms/step - loss: 1.0340 - accuracy: 0.5988 - val_loss: 1.1162 - val_accuracy: 0.5556\n",
      "Epoch 19/50\n",
      "486/486 [==============================] - 1s 2ms/step - loss: 0.9796 - accuracy: 0.6276 - val_loss: 1.0446 - val_accuracy: 0.5926\n",
      "Epoch 20/50\n",
      "486/486 [==============================] - 1s 2ms/step - loss: 0.9972 - accuracy: 0.6111 - val_loss: 1.1289 - val_accuracy: 0.6111\n",
      "Epoch 21/50\n",
      "486/486 [==============================] - 1s 2ms/step - loss: 0.9701 - accuracy: 0.6214 - val_loss: 1.1302 - val_accuracy: 0.5370\n",
      "Epoch 22/50\n",
      "486/486 [==============================] - 1s 1ms/step - loss: 0.9719 - accuracy: 0.6173 - val_loss: 1.0758 - val_accuracy: 0.5741\n",
      "Epoch 23/50\n",
      "486/486 [==============================] - 1s 2ms/step - loss: 0.9356 - accuracy: 0.6358 - val_loss: 1.0617 - val_accuracy: 0.5185\n",
      "Epoch 24/50\n",
      "486/486 [==============================] - 1s 1ms/step - loss: 0.9242 - accuracy: 0.6420 - val_loss: 1.0162 - val_accuracy: 0.6481\n",
      "Epoch 25/50\n",
      "486/486 [==============================] - 1s 2ms/step - loss: 0.9303 - accuracy: 0.6255 - val_loss: 1.1665 - val_accuracy: 0.5926\n",
      "Epoch 26/50\n",
      "486/486 [==============================] - 1s 2ms/step - loss: 0.8800 - accuracy: 0.6440 - val_loss: 1.1121 - val_accuracy: 0.5556\n",
      "Epoch 27/50\n",
      "486/486 [==============================] - 1s 2ms/step - loss: 0.8805 - accuracy: 0.6420 - val_loss: 1.1843 - val_accuracy: 0.5370\n",
      "Epoch 28/50\n",
      "486/486 [==============================] - 1s 2ms/step - loss: 0.8475 - accuracy: 0.6584 - val_loss: 1.1510 - val_accuracy: 0.5556\n",
      "Epoch 29/50\n",
      "486/486 [==============================] - 1s 2ms/step - loss: 0.8018 - accuracy: 0.6667 - val_loss: 1.2115 - val_accuracy: 0.5370\n",
      "Epoch 30/50\n",
      "486/486 [==============================] - 1s 1ms/step - loss: 0.8310 - accuracy: 0.6461 - val_loss: 1.0414 - val_accuracy: 0.6667\n",
      "Epoch 31/50\n",
      "486/486 [==============================] - 1s 2ms/step - loss: 0.8195 - accuracy: 0.6749 - val_loss: 1.1037 - val_accuracy: 0.6296\n",
      "Epoch 32/50\n",
      "486/486 [==============================] - 1s 2ms/step - loss: 0.7825 - accuracy: 0.6770 - val_loss: 1.0234 - val_accuracy: 0.6481\n",
      "Epoch 33/50\n",
      "486/486 [==============================] - 1s 2ms/step - loss: 0.8076 - accuracy: 0.6749 - val_loss: 1.0661 - val_accuracy: 0.6111\n",
      "Epoch 34/50\n",
      "486/486 [==============================] - 1s 2ms/step - loss: 0.7915 - accuracy: 0.6770 - val_loss: 1.0938 - val_accuracy: 0.5556\n",
      "Epoch 35/50\n",
      "486/486 [==============================] - 1s 2ms/step - loss: 0.7799 - accuracy: 0.6667 - val_loss: 1.0790 - val_accuracy: 0.5185\n",
      "Epoch 36/50\n",
      "486/486 [==============================] - 1s 2ms/step - loss: 0.8662 - accuracy: 0.6440 - val_loss: 1.0624 - val_accuracy: 0.5926\n",
      "Epoch 37/50\n",
      "486/486 [==============================] - 1s 1ms/step - loss: 0.7431 - accuracy: 0.6770 - val_loss: 1.1942 - val_accuracy: 0.5556\n",
      "Epoch 38/50\n",
      "486/486 [==============================] - 1s 2ms/step - loss: 0.7881 - accuracy: 0.6811 - val_loss: 1.1857 - val_accuracy: 0.5556\n",
      "Epoch 39/50\n",
      "486/486 [==============================] - 1s 2ms/step - loss: 0.7459 - accuracy: 0.6893 - val_loss: 1.0082 - val_accuracy: 0.6296\n",
      "Epoch 40/50\n",
      "486/486 [==============================] - 1s 1ms/step - loss: 0.7478 - accuracy: 0.6687 - val_loss: 1.0973 - val_accuracy: 0.5741\n",
      "Epoch 41/50\n",
      "486/486 [==============================] - 1s 2ms/step - loss: 0.7961 - accuracy: 0.6626 - val_loss: 1.0911 - val_accuracy: 0.5926\n",
      "Epoch 42/50\n",
      "486/486 [==============================] - 1s 2ms/step - loss: 0.7335 - accuracy: 0.6872 - val_loss: 1.0666 - val_accuracy: 0.5370\n",
      "Epoch 43/50\n",
      "486/486 [==============================] - 1s 2ms/step - loss: 0.7339 - accuracy: 0.6934 - val_loss: 1.1044 - val_accuracy: 0.5926\n",
      "Epoch 44/50\n",
      "486/486 [==============================] - 1s 2ms/step - loss: 0.7089 - accuracy: 0.6996 - val_loss: 1.1017 - val_accuracy: 0.5370\n",
      "Epoch 45/50\n",
      "486/486 [==============================] - 1s 2ms/step - loss: 0.7412 - accuracy: 0.6831 - val_loss: 1.2521 - val_accuracy: 0.5926\n",
      "Epoch 46/50\n",
      "486/486 [==============================] - 1s 2ms/step - loss: 0.7299 - accuracy: 0.6728 - val_loss: 1.0795 - val_accuracy: 0.5926\n",
      "Epoch 47/50\n",
      "486/486 [==============================] - 1s 1ms/step - loss: 0.7537 - accuracy: 0.6872 - val_loss: 1.0893 - val_accuracy: 0.5741\n",
      "Epoch 48/50\n",
      "486/486 [==============================] - 1s 1ms/step - loss: 0.7154 - accuracy: 0.6955 - val_loss: 1.0582 - val_accuracy: 0.5926\n",
      "Epoch 49/50\n",
      "486/486 [==============================] - 1s 1ms/step - loss: 0.6893 - accuracy: 0.7058 - val_loss: 1.1561 - val_accuracy: 0.5741\n",
      "Epoch 50/50\n",
      "486/486 [==============================] - 1s 2ms/step - loss: 0.7170 - accuracy: 0.6955 - val_loss: 1.0937 - val_accuracy: 0.5741\n"
     ]
    },
    {
     "data": {
      "text/plain": [
       "<keras.callbacks.History at 0x7ff6bb3ce3d0>"
      ]
     },
     "execution_count": 330,
     "metadata": {},
     "output_type": "execute_result"
    }
   ],
   "source": [
    "# fitting model \n",
    "model.fit(train_dataset,epochs=50, validation_data=test_dataset)"
   ]
  },
  {
   "cell_type": "markdown",
   "metadata": {},
   "source": [
    "## Polar Coordinates"
   ]
  },
  {
   "cell_type": "code",
   "execution_count": 311,
   "metadata": {},
   "outputs": [],
   "source": [
    "# trial with polar coordinates\n",
    "def cart2pol(x, y):\n",
    "    rho = np.sqrt(x**2 + y**2)\n",
    "    phi = np.arctan2(y, x)\n",
    "    return(rho, phi)"
   ]
  },
  {
   "cell_type": "code",
   "execution_count": 315,
   "metadata": {},
   "outputs": [],
   "source": [
    "lala = delta.copy()\n",
    "\n",
    "for i in range(lala.shape[0]):\n",
    "    for j in range(lala.shape[1]):\n",
    "        lala[i,j] = cart2pol(lala[i,j,0], lala[i,j,1])"
   ]
  },
  {
   "cell_type": "code",
   "execution_count": 316,
   "metadata": {},
   "outputs": [],
   "source": [
    "X_train, X_test, y_train, y_test = train_test_split(lala.reshape(540,136), y, test_size=0.1)"
   ]
  },
  {
   "cell_type": "code",
   "execution_count": 318,
   "metadata": {},
   "outputs": [],
   "source": [
    "\n",
    "train_dataset = tf.data.Dataset.from_tensor_slices((X_train, y_train)\n",
    ")\n",
    "train_dataset = train_dataset.batch(BATCH_SIZE)\n",
    "\n",
    "test_dataset = tf.data.Dataset.from_tensor_slices((X_test, y_test)\n",
    ")\n",
    "test_dataset = test_dataset.batch(BATCH_SIZE)"
   ]
  },
  {
   "cell_type": "code",
   "execution_count": 321,
   "metadata": {},
   "outputs": [
    {
     "name": "stdout",
     "output_type": "stream",
     "text": [
      "Epoch 1/50\n",
      "486/486 [==============================] - 1s 2ms/step - loss: 1.1190 - accuracy: 0.5473 - val_loss: 1.2985 - val_accuracy: 0.3704\n",
      "Epoch 2/50\n",
      "486/486 [==============================] - 1s 1ms/step - loss: 1.0655 - accuracy: 0.5844 - val_loss: 1.2126 - val_accuracy: 0.4444\n",
      "Epoch 3/50\n",
      "486/486 [==============================] - 1s 2ms/step - loss: 0.9762 - accuracy: 0.6091 - val_loss: 1.0461 - val_accuracy: 0.5000\n",
      "Epoch 4/50\n",
      "486/486 [==============================] - 1s 2ms/step - loss: 0.9951 - accuracy: 0.5988 - val_loss: 1.0857 - val_accuracy: 0.5185\n",
      "Epoch 5/50\n",
      "486/486 [==============================] - 1s 2ms/step - loss: 0.9544 - accuracy: 0.6049 - val_loss: 1.1005 - val_accuracy: 0.4630\n",
      "Epoch 6/50\n",
      "486/486 [==============================] - 1s 2ms/step - loss: 0.9324 - accuracy: 0.6173 - val_loss: 1.1184 - val_accuracy: 0.4815\n",
      "Epoch 7/50\n",
      "486/486 [==============================] - 1s 2ms/step - loss: 0.9396 - accuracy: 0.6420 - val_loss: 1.0845 - val_accuracy: 0.5556\n",
      "Epoch 8/50\n",
      "486/486 [==============================] - 1s 2ms/step - loss: 0.8798 - accuracy: 0.6481 - val_loss: 1.1333 - val_accuracy: 0.4815\n",
      "Epoch 9/50\n",
      "486/486 [==============================] - 1s 2ms/step - loss: 0.9007 - accuracy: 0.6070 - val_loss: 1.0738 - val_accuracy: 0.5000\n",
      "Epoch 10/50\n",
      "486/486 [==============================] - 1s 2ms/step - loss: 0.8953 - accuracy: 0.6214 - val_loss: 1.0474 - val_accuracy: 0.5370\n",
      "Epoch 11/50\n",
      "486/486 [==============================] - 1s 2ms/step - loss: 0.8602 - accuracy: 0.6461 - val_loss: 1.0574 - val_accuracy: 0.5556\n",
      "Epoch 12/50\n",
      "486/486 [==============================] - 1s 2ms/step - loss: 0.7841 - accuracy: 0.6420 - val_loss: 1.0858 - val_accuracy: 0.5370\n",
      "Epoch 13/50\n",
      "486/486 [==============================] - 1s 2ms/step - loss: 0.8090 - accuracy: 0.6749 - val_loss: 0.9998 - val_accuracy: 0.5741\n",
      "Epoch 14/50\n",
      "486/486 [==============================] - 1s 2ms/step - loss: 0.8106 - accuracy: 0.6811 - val_loss: 1.0606 - val_accuracy: 0.5000\n",
      "Epoch 15/50\n",
      "486/486 [==============================] - 1s 2ms/step - loss: 0.7462 - accuracy: 0.7058 - val_loss: 1.0371 - val_accuracy: 0.5556\n",
      "Epoch 16/50\n",
      "486/486 [==============================] - 1s 2ms/step - loss: 0.7578 - accuracy: 0.7140 - val_loss: 1.0894 - val_accuracy: 0.5185\n",
      "Epoch 17/50\n",
      "486/486 [==============================] - 1s 2ms/step - loss: 0.8063 - accuracy: 0.6728 - val_loss: 1.1243 - val_accuracy: 0.6111\n",
      "Epoch 18/50\n",
      "486/486 [==============================] - 1s 2ms/step - loss: 0.7346 - accuracy: 0.6955 - val_loss: 1.0514 - val_accuracy: 0.5741\n",
      "Epoch 19/50\n",
      "486/486 [==============================] - 1s 2ms/step - loss: 0.6903 - accuracy: 0.7222 - val_loss: 0.9980 - val_accuracy: 0.5926\n",
      "Epoch 20/50\n",
      "486/486 [==============================] - 1s 1ms/step - loss: 0.6666 - accuracy: 0.7325 - val_loss: 1.0275 - val_accuracy: 0.5926\n",
      "Epoch 21/50\n",
      "486/486 [==============================] - 1s 2ms/step - loss: 0.7231 - accuracy: 0.7140 - val_loss: 1.0377 - val_accuracy: 0.5741\n",
      "Epoch 22/50\n",
      "486/486 [==============================] - 1s 2ms/step - loss: 0.6924 - accuracy: 0.7346 - val_loss: 0.9900 - val_accuracy: 0.6481\n",
      "Epoch 23/50\n",
      "486/486 [==============================] - 1s 2ms/step - loss: 0.6938 - accuracy: 0.7263 - val_loss: 1.0155 - val_accuracy: 0.6111\n",
      "Epoch 24/50\n",
      "486/486 [==============================] - 1s 2ms/step - loss: 0.6714 - accuracy: 0.7284 - val_loss: 0.9485 - val_accuracy: 0.6111\n",
      "Epoch 25/50\n",
      "486/486 [==============================] - 1s 1ms/step - loss: 0.6907 - accuracy: 0.7243 - val_loss: 0.9849 - val_accuracy: 0.6111\n",
      "Epoch 26/50\n",
      "486/486 [==============================] - 1s 1ms/step - loss: 0.6472 - accuracy: 0.7387 - val_loss: 1.0687 - val_accuracy: 0.5741\n",
      "Epoch 27/50\n",
      "486/486 [==============================] - 1s 1ms/step - loss: 0.6654 - accuracy: 0.7387 - val_loss: 0.9919 - val_accuracy: 0.6111\n",
      "Epoch 28/50\n",
      "486/486 [==============================] - 1s 2ms/step - loss: 0.7010 - accuracy: 0.7099 - val_loss: 0.9264 - val_accuracy: 0.6481\n",
      "Epoch 29/50\n",
      "486/486 [==============================] - 1s 2ms/step - loss: 0.7090 - accuracy: 0.7305 - val_loss: 0.9931 - val_accuracy: 0.7037\n",
      "Epoch 30/50\n",
      "486/486 [==============================] - 1s 2ms/step - loss: 0.6782 - accuracy: 0.7387 - val_loss: 0.9578 - val_accuracy: 0.6296\n",
      "Epoch 31/50\n",
      "486/486 [==============================] - 1s 2ms/step - loss: 0.6821 - accuracy: 0.7407 - val_loss: 0.8779 - val_accuracy: 0.6296\n",
      "Epoch 32/50\n",
      "486/486 [==============================] - 1s 2ms/step - loss: 0.6517 - accuracy: 0.7449 - val_loss: 0.9207 - val_accuracy: 0.6481\n",
      "Epoch 33/50\n",
      "486/486 [==============================] - 1s 2ms/step - loss: 0.5967 - accuracy: 0.7572 - val_loss: 1.0257 - val_accuracy: 0.6296\n",
      "Epoch 34/50\n",
      "486/486 [==============================] - 1s 2ms/step - loss: 0.5964 - accuracy: 0.7654 - val_loss: 1.0197 - val_accuracy: 0.5926\n",
      "Epoch 35/50\n",
      "486/486 [==============================] - 1s 2ms/step - loss: 0.5988 - accuracy: 0.7531 - val_loss: 1.0491 - val_accuracy: 0.6111\n",
      "Epoch 36/50\n",
      "486/486 [==============================] - 1s 2ms/step - loss: 0.6926 - accuracy: 0.7140 - val_loss: 0.9853 - val_accuracy: 0.6481\n",
      "Epoch 37/50\n",
      "486/486 [==============================] - 1s 2ms/step - loss: 0.6901 - accuracy: 0.7202 - val_loss: 1.0499 - val_accuracy: 0.6667\n",
      "Epoch 38/50\n",
      "486/486 [==============================] - 1s 2ms/step - loss: 0.6094 - accuracy: 0.7551 - val_loss: 1.0094 - val_accuracy: 0.6111\n",
      "Epoch 39/50\n",
      "486/486 [==============================] - 1s 2ms/step - loss: 0.5864 - accuracy: 0.7510 - val_loss: 0.9297 - val_accuracy: 0.6296\n",
      "Epoch 40/50\n",
      "486/486 [==============================] - 1s 2ms/step - loss: 0.6120 - accuracy: 0.7572 - val_loss: 1.1805 - val_accuracy: 0.5926\n",
      "Epoch 41/50\n",
      "486/486 [==============================] - 1s 2ms/step - loss: 0.5806 - accuracy: 0.7798 - val_loss: 1.1323 - val_accuracy: 0.5926\n",
      "Epoch 42/50\n",
      "486/486 [==============================] - 1s 2ms/step - loss: 0.5589 - accuracy: 0.7778 - val_loss: 0.9911 - val_accuracy: 0.6296\n",
      "Epoch 43/50\n",
      "486/486 [==============================] - 1s 2ms/step - loss: 0.5289 - accuracy: 0.7963 - val_loss: 1.2085 - val_accuracy: 0.6667\n",
      "Epoch 44/50\n",
      "486/486 [==============================] - 1s 2ms/step - loss: 0.6397 - accuracy: 0.7510 - val_loss: 0.8947 - val_accuracy: 0.6481\n",
      "Epoch 45/50\n",
      "486/486 [==============================] - 1s 2ms/step - loss: 0.5972 - accuracy: 0.7531 - val_loss: 1.0840 - val_accuracy: 0.5926\n",
      "Epoch 46/50\n",
      "486/486 [==============================] - 1s 2ms/step - loss: 0.5487 - accuracy: 0.7737 - val_loss: 0.9970 - val_accuracy: 0.5926\n",
      "Epoch 47/50\n",
      "486/486 [==============================] - 1s 2ms/step - loss: 0.5710 - accuracy: 0.7613 - val_loss: 1.0493 - val_accuracy: 0.6111\n",
      "Epoch 48/50\n",
      "486/486 [==============================] - 1s 2ms/step - loss: 0.5259 - accuracy: 0.7798 - val_loss: 0.9558 - val_accuracy: 0.6667\n",
      "Epoch 49/50\n",
      "486/486 [==============================] - 1s 2ms/step - loss: 0.6342 - accuracy: 0.7510 - val_loss: 1.2264 - val_accuracy: 0.5741\n",
      "Epoch 50/50\n",
      "486/486 [==============================] - 1s 2ms/step - loss: 0.5893 - accuracy: 0.7737 - val_loss: 0.9767 - val_accuracy: 0.6667\n"
     ]
    },
    {
     "data": {
      "text/plain": [
       "<keras.callbacks.History at 0x7ff6bb629250>"
      ]
     },
     "execution_count": 321,
     "metadata": {},
     "output_type": "execute_result"
    }
   ],
   "source": [
    "# training model \n",
    "model.fit(train_dataset,epochs=50, validation_data=test_dataset)"
   ]
  },
  {
   "cell_type": "code",
   "execution_count": 140,
   "metadata": {},
   "outputs": [],
   "source": [
    "sample_submission = pd.read_csv(\"sampleSubmission.csv\")\n",
    "\n",
    "sample_submission[\"expression\"] = pred.astype(int)\n",
    "\n",
    "sample_submission.to_csv(\"sampleSubmission.csv\", index=False)"
   ]
  }
 ],
 "metadata": {
  "interpreter": {
   "hash": "31f2aee4e71d21fbe5cf8b01ff0e069b9275f58929596ceb00d14d90e3e16cd6"
  },
  "kernelspec": {
   "display_name": "Python 3.8.10 64-bit",
   "language": "python",
   "name": "python3"
  },
  "language_info": {
   "codemirror_mode": {
    "name": "ipython",
    "version": 3
   },
   "file_extension": ".py",
   "mimetype": "text/x-python",
   "name": "python",
   "nbconvert_exporter": "python",
   "pygments_lexer": "ipython3",
   "version": "3.9.7"
  },
  "orig_nbformat": 4
 },
 "nbformat": 4,
 "nbformat_minor": 2
}
